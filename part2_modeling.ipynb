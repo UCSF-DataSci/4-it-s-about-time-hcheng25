{
 "cells": [
  {
   "cell_type": "markdown",
   "metadata": {},
   "source": [
    "# Part 2: Time Series Modeling\n",
    "\n",
    "In this notebook, you will implement functions to extract features from time series data and build ARIMA models."
   ]
  },
  {
   "cell_type": "code",
   "execution_count": 1,
   "metadata": {},
   "outputs": [],
   "source": [
    "# Import required libraries\n",
    "import numpy as np\n",
    "import pandas as pd\n",
    "import matplotlib.pyplot as plt\n",
    "import seaborn as sns\n",
    "from statsmodels.tsa.arima.model import ARIMA\n",
    "from pathlib import Path\n",
    "import os\n",
    "\n",
    "# Set style for plots\n",
    "%matplotlib inline"
   ]
  },
  {
   "cell_type": "markdown",
   "metadata": {},
   "source": [
    "## 1. Feature Extraction\n",
    "\n",
    "Implement the `extract_time_series_features` function to calculate rolling window features."
   ]
  },
  {
   "cell_type": "code",
   "execution_count": null,
   "metadata": {},
   "outputs": [
    {
     "data": {
      "text/plain": [
       "eda             0.011532\n",
       "heart_rate     62.280000\n",
       "temperature    17.190000\n",
       "dtype: float64"
      ]
     },
     "execution_count": 18,
     "metadata": {},
     "output_type": "execute_result"
    }
   ],
   "source": [
    "# load processed data\n",
    "df = pd.DataFrame()\n",
    "subjects = pd.Series(range(10))+1\n",
    "subjects = 'S' + subjects.astype('str')\n",
    "for subject in subjects:\n",
    "    current = pd.read_csv('data/processed/' + subject + '_processed.csv')\n",
    "    if df.empty == True:\n",
    "        df = current\n",
    "    else:\n",
    "        df = pd.concat([df, current], axis=0)\n",
    "df = df.iloc[:, 1:] # drop non-data index column\n",
    "\n",
    "def extract_time_series_features(data, window_size=60):\n",
    "    \"\"\"Extract rolling window features from time series data.\n",
    "    \n",
    "    Parameters\n",
    "    ----------\n",
    "    data : pd.DataFrame\n",
    "        Preprocessed physiological data\n",
    "    window_size : int\n",
    "        Size of the rolling window in seconds\n",
    "        \n",
    "    Returns\n",
    "    -------\n",
    "    pd.DataFrame\n",
    "        DataFrame containing extracted features for each signal\n",
    "    \"\"\"\n",
    "    # Your code here\n",
    "    # 1. Calculate rolling window statistics\n",
    "    # 2. Include mean, std, min, max, and autocorrelation\n",
    "\n",
    "    df = data.set_index('timestamp')\n",
    "    df = df[['eda', 'heart_rate', 'temperature']]\n",
    "    rolling_mean = df.rolling(window=window_size).mean().dropna()\n",
    "    rolling_sd = df.rolling(window=window_size).std().dropna()\n",
    "    min_df = df.min()\n",
    "    max_df = df.max()\n",
    "    return rolling_mean, rolling_sd, min_df, max_df\n",
    "\n",
    "# extracting features from Final data for S1\n",
    "s1_final = df[(df['subject_id']=='S1') & (df['session']=='Final')]\n",
    "roll_mean_df, roll_sd_df, min_df, max_df = extract_time_series_features(s1_final)\n",
    "min_df"
   ]
  },
  {
   "cell_type": "markdown",
   "metadata": {},
   "source": [
    "## 2. ARIMA Modeling\n",
    "\n",
    "Implement the `build_arima_model` function to fit ARIMA models and generate diagnostic plots."
   ]
  },
  {
   "cell_type": "code",
   "execution_count": null,
   "metadata": {},
   "outputs": [],
   "source": [
    "def build_arima_model(series, order=(1,1,1), output_dir='plots'):\n",
    "    \"\"\"Fit an ARIMA model to the time series and generate diagnostic plots.\n",
    "    \n",
    "    Parameters\n",
    "    ----------\n",
    "    series : pd.Series\n",
    "        Time series data to model\n",
    "    order : tuple\n",
    "        (p,d,q) order of the ARIMA model\n",
    "    output_dir : str\n",
    "        Directory to save diagnostic plots\n",
    "        \n",
    "    Returns\n",
    "    -------\n",
    "    statsmodels.tsa.arima.model.ARIMAResults\n",
    "        Fitted ARIMA model\n",
    "    \"\"\"\n",
    "    # Create output directory if it doesn't exist\n",
    "    os.makedirs(output_dir, exist_ok=True)\n",
    "    \n",
    "    # Your code here\n",
    "    # 1. Fit ARIMA model\n",
    "    # 2. Generate diagnostic plots:\n",
    "    #    - Model fit plot\n",
    "    #    - Residuals plot\n",
    "    #    - Forecast plot\n",
    "    # 3. Save plots to output directory\n",
    "    \n",
    "    pass"
   ]
  }
 ],
 "metadata": {
  "kernelspec": {
   "display_name": ".venv",
   "language": "python",
   "name": "python3"
  },
  "language_info": {
   "codemirror_mode": {
    "name": "ipython",
    "version": 3
   },
   "file_extension": ".py",
   "mimetype": "text/x-python",
   "name": "python",
   "nbconvert_exporter": "python",
   "pygments_lexer": "ipython3",
   "version": "3.10.12"
  }
 },
 "nbformat": 4,
 "nbformat_minor": 4
}
